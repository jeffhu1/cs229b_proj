{
 "cells": [
  {
   "cell_type": "code",
   "execution_count": 1,
   "id": "1eaf08c2-8e99-45b4-bdb8-543f37f5abbe",
   "metadata": {},
   "outputs": [],
   "source": [
    "import requests"
   ]
  },
  {
   "cell_type": "code",
   "execution_count": 13,
   "id": "273bbed3-70fb-4331-8955-7e2963d0d193",
   "metadata": {},
   "outputs": [],
   "source": [
    "api_key = \"CG-M1G9Ec8DhZ3WGoUtY3rKvo1L\"\n",
    "url = f\"https://api.coingecko.com/api/v3/coins/bitcoin/market_chart?vs_currency=usd&days=max&x_cg_demo_api_key={api_key}\"\n",
    "# url = \"https://api.coingecko.com/api/v3/coins/bitcoin/market_chart?vs_currency=usd&days=max\"\n",
    "res = requests.get(url)"
   ]
  },
  {
   "cell_type": "code",
   "execution_count": 16,
   "id": "7dbe309c-1130-4e22-ab01-d5b84854d496",
   "metadata": {},
   "outputs": [],
   "source": [
    "data = res.json()"
   ]
  },
  {
   "cell_type": "code",
   "execution_count": 22,
   "id": "9d3d4cf9-16e0-4e54-94d9-ea4178a7310f",
   "metadata": {},
   "outputs": [],
   "source": [
    "import pandas as pd\n",
    "\n",
    "# Create empty DataFrame with 'timestamp' as index\n",
    "df = pd.DataFrame()\n",
    "\n",
    "# Populate DataFrame\n",
    "for key in data.keys():\n",
    "    temp_df = pd.DataFrame(data[key], columns=['timestamp', key])\n",
    "    if df.empty:\n",
    "        df = temp_df\n",
    "    else:\n",
    "        df = pd.merge(df, temp_df, on='timestamp', how='outer')\n",
    "\n",
    "# Convert timestamp to datetime if needed\n",
    "df['timestamp'] = pd.to_datetime(df['timestamp'], unit='ms')\n",
    "\n",
    "# Set timestamp as index\n",
    "df.set_index('timestamp', inplace=True)"
   ]
  },
  {
   "cell_type": "code",
   "execution_count": 23,
   "id": "b15c2024-5eab-4be7-8932-f6e2bb8b4422",
   "metadata": {},
   "outputs": [
    {
     "data": {
      "text/html": [
       "<div>\n",
       "<style scoped>\n",
       "    .dataframe tbody tr th:only-of-type {\n",
       "        vertical-align: middle;\n",
       "    }\n",
       "\n",
       "    .dataframe tbody tr th {\n",
       "        vertical-align: top;\n",
       "    }\n",
       "\n",
       "    .dataframe thead th {\n",
       "        text-align: right;\n",
       "    }\n",
       "</style>\n",
       "<table border=\"1\" class=\"dataframe\">\n",
       "  <thead>\n",
       "    <tr style=\"text-align: right;\">\n",
       "      <th></th>\n",
       "      <th>prices</th>\n",
       "      <th>market_caps</th>\n",
       "      <th>total_volumes</th>\n",
       "    </tr>\n",
       "    <tr>\n",
       "      <th>timestamp</th>\n",
       "      <th></th>\n",
       "      <th></th>\n",
       "      <th></th>\n",
       "    </tr>\n",
       "  </thead>\n",
       "  <tbody>\n",
       "    <tr>\n",
       "      <th>2013-04-28 00:00:00</th>\n",
       "      <td>135.300000</td>\n",
       "      <td>1.500518e+09</td>\n",
       "      <td>0.000000e+00</td>\n",
       "    </tr>\n",
       "    <tr>\n",
       "      <th>2013-04-29 00:00:00</th>\n",
       "      <td>141.960000</td>\n",
       "      <td>1.575032e+09</td>\n",
       "      <td>0.000000e+00</td>\n",
       "    </tr>\n",
       "    <tr>\n",
       "      <th>2013-04-30 00:00:00</th>\n",
       "      <td>135.300000</td>\n",
       "      <td>1.501657e+09</td>\n",
       "      <td>0.000000e+00</td>\n",
       "    </tr>\n",
       "    <tr>\n",
       "      <th>2013-05-01 00:00:00</th>\n",
       "      <td>117.000000</td>\n",
       "      <td>1.298952e+09</td>\n",
       "      <td>0.000000e+00</td>\n",
       "    </tr>\n",
       "    <tr>\n",
       "      <th>2013-05-02 00:00:00</th>\n",
       "      <td>103.430000</td>\n",
       "      <td>1.148668e+09</td>\n",
       "      <td>0.000000e+00</td>\n",
       "    </tr>\n",
       "    <tr>\n",
       "      <th>...</th>\n",
       "      <td>...</td>\n",
       "      <td>...</td>\n",
       "      <td>...</td>\n",
       "    </tr>\n",
       "    <tr>\n",
       "      <th>2023-10-18 00:00:00</th>\n",
       "      <td>28417.721752</td>\n",
       "      <td>5.550031e+11</td>\n",
       "      <td>1.040325e+10</td>\n",
       "    </tr>\n",
       "    <tr>\n",
       "      <th>2023-10-19 00:00:00</th>\n",
       "      <td>28328.245198</td>\n",
       "      <td>5.533111e+11</td>\n",
       "      <td>1.346103e+10</td>\n",
       "    </tr>\n",
       "    <tr>\n",
       "      <th>2023-10-20 00:00:00</th>\n",
       "      <td>28715.748142</td>\n",
       "      <td>5.593640e+11</td>\n",
       "      <td>1.119392e+10</td>\n",
       "    </tr>\n",
       "    <tr>\n",
       "      <th>2023-10-21 00:00:00</th>\n",
       "      <td>29677.392888</td>\n",
       "      <td>5.795368e+11</td>\n",
       "      <td>2.356141e+10</td>\n",
       "    </tr>\n",
       "    <tr>\n",
       "      <th>2023-10-21 17:11:21</th>\n",
       "      <td>29900.050788</td>\n",
       "      <td>5.835680e+11</td>\n",
       "      <td>1.121431e+10</td>\n",
       "    </tr>\n",
       "  </tbody>\n",
       "</table>\n",
       "<p>3828 rows × 3 columns</p>\n",
       "</div>"
      ],
      "text/plain": [
       "                           prices   market_caps  total_volumes\n",
       "timestamp                                                     \n",
       "2013-04-28 00:00:00    135.300000  1.500518e+09   0.000000e+00\n",
       "2013-04-29 00:00:00    141.960000  1.575032e+09   0.000000e+00\n",
       "2013-04-30 00:00:00    135.300000  1.501657e+09   0.000000e+00\n",
       "2013-05-01 00:00:00    117.000000  1.298952e+09   0.000000e+00\n",
       "2013-05-02 00:00:00    103.430000  1.148668e+09   0.000000e+00\n",
       "...                           ...           ...            ...\n",
       "2023-10-18 00:00:00  28417.721752  5.550031e+11   1.040325e+10\n",
       "2023-10-19 00:00:00  28328.245198  5.533111e+11   1.346103e+10\n",
       "2023-10-20 00:00:00  28715.748142  5.593640e+11   1.119392e+10\n",
       "2023-10-21 00:00:00  29677.392888  5.795368e+11   2.356141e+10\n",
       "2023-10-21 17:11:21  29900.050788  5.835680e+11   1.121431e+10\n",
       "\n",
       "[3828 rows x 3 columns]"
      ]
     },
     "execution_count": 23,
     "metadata": {},
     "output_type": "execute_result"
    }
   ],
   "source": [
    "df"
   ]
  },
  {
   "cell_type": "code",
   "execution_count": 24,
   "id": "1c1bbd97-19e9-46dc-9b2c-151eb9388337",
   "metadata": {},
   "outputs": [],
   "source": [
    "df.to_csv(\"bitcoin.csv\")"
   ]
  },
  {
   "cell_type": "code",
   "execution_count": null,
   "id": "e5f8da4c-5642-408b-aa3f-ce57605ad663",
   "metadata": {},
   "outputs": [],
   "source": []
  }
 ],
 "metadata": {
  "kernelspec": {
   "display_name": "Python 3 (ipykernel)",
   "language": "python",
   "name": "python3"
  },
  "language_info": {
   "codemirror_mode": {
    "name": "ipython",
    "version": 3
   },
   "file_extension": ".py",
   "mimetype": "text/x-python",
   "name": "python",
   "nbconvert_exporter": "python",
   "pygments_lexer": "ipython3",
   "version": "3.10.9"
  }
 },
 "nbformat": 4,
 "nbformat_minor": 5
}

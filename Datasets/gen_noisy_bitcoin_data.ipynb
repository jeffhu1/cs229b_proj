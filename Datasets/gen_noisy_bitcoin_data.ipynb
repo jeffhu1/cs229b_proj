{
 "cells": [
  {
   "cell_type": "code",
   "execution_count": 1,
   "metadata": {},
   "outputs": [],
   "source": [
    "import pandas as pd\n",
    "import numpy as np"
   ]
  },
  {
   "cell_type": "code",
   "execution_count": 2,
   "metadata": {},
   "outputs": [],
   "source": [
    "input_csv_path = 'bitcoin.csv'  # Replace with your actual file path\n",
    "output_csv_path = 'manipulated_bitcoin.csv'  # Replace with your desired output file path\n",
    "df = pd.read_csv(input_csv_path)"
   ]
  },
  {
   "cell_type": "code",
   "execution_count": 3,
   "metadata": {},
   "outputs": [],
   "source": [
    "# Randomly choose a 10% sample of datapoints\n",
    "dramatic_sample_size = int(0.08 * len(df))\n",
    "missing_sample_size = int(0.02 * len(df))"
   ]
  },
  {
   "cell_type": "code",
   "execution_count": 4,
   "metadata": {},
   "outputs": [],
   "source": [
    "# Manipulate the price values and make some values missing\n",
    "dramatic_indices = np.random.choice(df.index, size=dramatic_sample_size, replace=False)\n",
    "df.loc[dramatic_indices, 'prices'] *= np.random.uniform(0.5, 2.0)\n",
    "\n",
    "missing_indices = np.random.choice(df.index, size=missing_sample_size, replace=False)\n",
    "df.loc[missing_indices, 'prices'] = 0"
   ]
  },
  {
   "cell_type": "code",
   "execution_count": 5,
   "metadata": {},
   "outputs": [],
   "source": [
    "df.to_csv(output_csv_path, index=False)"
   ]
  }
 ],
 "metadata": {
  "kernelspec": {
   "display_name": "Python 3",
   "language": "python",
   "name": "python3"
  },
  "language_info": {
   "codemirror_mode": {
    "name": "ipython",
    "version": 3
   },
   "file_extension": ".py",
   "mimetype": "text/x-python",
   "name": "python",
   "nbconvert_exporter": "python",
   "pygments_lexer": "ipython3",
   "version": "3.11.5"
  },
  "orig_nbformat": 4
 },
 "nbformat": 4,
 "nbformat_minor": 2
}

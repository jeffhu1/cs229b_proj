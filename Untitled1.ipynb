{
 "cells": [
  {
   "cell_type": "code",
   "execution_count": 1,
   "id": "5ad54c78-fadf-4448-90b6-9aadf854fa77",
   "metadata": {},
   "outputs": [
    {
     "data": {
      "text/plain": [
       "(   Log_Return\n",
       " 0    0.356107\n",
       " 1    0.214562\n",
       " 2    0.680204\n",
       " 3    1.721134\n",
       " 4    1.133851,\n",
       "    Log_Return\n",
       " 0    1.976549\n",
       " 1   -0.136954\n",
       " 2    0.155210\n",
       " 3   -3.876501\n",
       " 4   -4.635968)"
      ]
     },
     "execution_count": 1,
     "metadata": {},
     "output_type": "execute_result"
    }
   ],
   "source": [
    "import numpy as np\n",
    "import pandas as pd\n",
    "from statsmodels.tsa.arima_process import ArmaProcess\n",
    "\n",
    "# Set the random seed for reproducibility\n",
    "np.random.seed(42)\n",
    "\n",
    "# Generate ARIMA(1, 1, 1) synthetic data for training\n",
    "# AR lag polynomials (ARIMA has AR and MA components)\n",
    "ar = np.array([1, -0.5])\n",
    "ma = np.array([1, 0.25])\n",
    "ARIMA_process = ArmaProcess(ar, ma)\n",
    "y_train = ARIMA_process.generate_sample(nsample=100)\n",
    "\n",
    "# Generate some GARCH-like volatility clustering for training\n",
    "# Volatility clustering means high volatility days are likely to be followed by high volatility days\n",
    "volatility_train = np.random.normal(1, 0.2, 100)\n",
    "volatility_train[40:60] = np.random.normal(3, 0.2, 20)\n",
    "y_train *= volatility_train\n",
    "\n",
    "# Generate ARIMA(1, 1, 1) synthetic data for testing\n",
    "y_test = ARIMA_process.generate_sample(nsample=10)\n",
    "\n",
    "# Generate some GARCH-like volatility clustering for testing\n",
    "volatility_test = np.random.normal(1, 0.2, 10)\n",
    "volatility_test[3:7] = np.random.normal(3, 0.2, 4)\n",
    "y_test *= volatility_test\n",
    "\n",
    "# Put synthetic data into DataFrames for easier handling\n",
    "df_train = pd.DataFrame(y_train, columns=['Log_Return'])\n",
    "df_test = pd.DataFrame(y_test, columns=['Log_Return'])\n",
    "\n",
    "df_train.head(), df_test.head()"
   ]
  },
  {
   "cell_type": "code",
   "execution_count": null,
   "id": "991b6127-f337-409f-b87b-100214627131",
   "metadata": {},
   "outputs": [],
   "source": []
  }
 ],
 "metadata": {
  "kernelspec": {
   "display_name": "Python 3 (ipykernel)",
   "language": "python",
   "name": "python3"
  },
  "language_info": {
   "codemirror_mode": {
    "name": "ipython",
    "version": 3
   },
   "file_extension": ".py",
   "mimetype": "text/x-python",
   "name": "python",
   "nbconvert_exporter": "python",
   "pygments_lexer": "ipython3",
   "version": "3.10.9"
  }
 },
 "nbformat": 4,
 "nbformat_minor": 5
}
